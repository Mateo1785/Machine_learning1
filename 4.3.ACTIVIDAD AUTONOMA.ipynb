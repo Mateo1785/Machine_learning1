{
 "cells": [
  {
   "cell_type": "markdown",
   "id": "7659197f-3dad-4478-a4f4-d05c5c55e042",
   "metadata": {},
   "source": [
    "<img src=\"img/Recurso-26.png\" width=\"200\">\n",
    "\n",
    "## 4.3. ACTIVIDAD AUTÓNOMA Y EXPERIMENTAL\n",
    "\n",
    "![logo](img/python_logo.png)\n",
    "\n",
    "**Nombre:** Elvis Pachacama<br>\n",
    "*Fecha:* 28/06/2025<br>\n",
    "\n",
    "<a href=\"https://github.com/Mateo1785/Machine-Learning1\">Enlace a GitHub</a>"
   ]
  },
  {
   "cell_type": "markdown",
   "id": "76d389f1-bfc6-42c8-a02f-98e3e24d7a8d",
   "metadata": {},
   "source": [
    "## Ejercicios"
   ]
  },
  {
   "cell_type": "markdown",
   "id": "3e04f93a-bac4-4e87-80b2-b1c1526eb5f5",
   "metadata": {},
   "source": [
    "1. Escribe un programa que muestre por pantalla la concatenación de un número y una cadena de caracteres. Para obtener esta concatenación puedes usar uno de los operadores explicados en este tema. Ejemplo: dado el número 3 y la cadena 'abc', el programa mostrará la cadena '3abc'.\n",
    "\n",
    "2. Escribe un programa que muestre por pantalla un valor booleano que indique si un número entero *N* está contenido en un intervalo semiabierto *[a,b)*, el cual establece una cota inferior *a* (inclusive) y una cota superior *b* (exclusive) para *N*.\n",
    "\n",
    "3. Escribe un programa que, dado dos strings *S1* y *S2* y dos números enteros *N1* y *N2*, determine si el substring que en *S1* se extiende desde la posición *N1* a la *N2* (ambos inclusive) está contenido en *S2*.\n",
    "\n",
    "4. Dada una *lista* con elementos duplicados, escribir un programa que muestre una nueva *lista* con el mismo contenido que la primera pero sin elementos duplicados.\n",
    "\n",
    "5. Escribe un programa que, dada una *lista* de strings *L*, un string *s* perteneciente a *L* y un string *t*, reemplace *s* por *t* en *L*. El programa debe mostrar la lista resultante por pantalla.\n",
    "\n",
    "6. Escribe un programa que defina una *tupla* con elementos numéricos, reemplace el valor del último por un valor diferente y muestre la *tupla* por pantalla. Recuerda que las *tuplas* son inmutables. Tendrás que usar objetos intermedios.\n",
    "\n",
    "7. Dada la lista [1,2,3,4,5,6,7,8] escribe un programa que, a partir de esta lista, obtenga la lista [8,6,4,2] y la muestre por pantalla.\n",
    "\n",
    "8. Escribe un programa que, dada una tupla y un índice válido *i*, elimine el elemento de la tupla que se encuentra en la posición *i*. Para este ejercicio sólo puedes usar objetos de tipo tupla. No puedes convetir la *tupla* a una *lista*, por ejemplo.\n",
    "\n",
    "9. Escribe un programa que obtenga la mediana de una *lista* de números. Recuerda que la mediana *M* de una lista de números *L* es el número que cumple la siguiente propiedad: la mitad de los números de *L* son superiores a *M* y la otra mitad son inferiores. Cuando el número de elementos de *L* es par, se puede considerar que hay dos medianas. No obstante, en este ejercicio consideraremos que únicamente existe una mediana."
   ]
  },
  {
   "cell_type": "code",
   "execution_count": 5,
   "id": "09f36e0d-5a0e-4da1-8d99-d842284cc650",
   "metadata": {},
   "outputs": [
    {
     "name": "stdout",
     "output_type": "stream",
     "text": [
      "3abc\n"
     ]
    }
   ],
   "source": [
    "#1er ejercicio:\n",
    "\n",
    "# Definimos el número y la cadena\n",
    "numero = 3\n",
    "cadena = 'abc'\n",
    "\n",
    "# Convertimos el número a cadena y concatenamos\n",
    "resultado = str(numero) + cadena\n",
    "\n",
    "# Mostramos el resultado\n",
    "print(resultado)\n"
   ]
  },
  {
   "cell_type": "code",
   "execution_count": 7,
   "id": "711ae326-1fa9-4899-8744-a5fdf3e24914",
   "metadata": {},
   "outputs": [
    {
     "name": "stdout",
     "output_type": "stream",
     "text": [
      "True\n"
     ]
    }
   ],
   "source": [
    "#2do Ejercicio:\n",
    "\n",
    "# Definimos el número y los límites del intervalo\n",
    "N = 7\n",
    "a = 5\n",
    "b = 10\n",
    "\n",
    "# Verificamos si N está dentro del intervalo [a, b)\n",
    "resultado = a <= N < b\n",
    "\n",
    "# Mostramos el resultado\n",
    "print(resultado)"
   ]
  },
  {
   "cell_type": "code",
   "execution_count": 8,
   "id": "2d535eda-bc44-4ab9-aa23-4fc7dd6fda73",
   "metadata": {},
   "outputs": [
    {
     "name": "stdout",
     "output_type": "stream",
     "text": [
      "Substring extraído: amacion\n",
      "¿Está contenido en S2? True\n"
     ]
    }
   ],
   "source": [
    "#3er Ejercicio:\n",
    "\n",
    "# Definimos las cadenas y los índices\n",
    "S1 = \"programacion\"\n",
    "S2 = \"amacion\"\n",
    "N1 = 5\n",
    "N2 = 11\n",
    "\n",
    "# Extraemos el substring de S1 (incluyendo ambas posiciones)\n",
    "substring = S1[N1:N2 + 1]\n",
    "\n",
    "# Verificamos si el substring está contenido en S2\n",
    "resultado = substring in S2\n",
    "\n",
    "# Mostramos el resultado\n",
    "print(\"Substring extraído:\", substring)\n",
    "print(\"¿Está contenido en S2?\", resultado)"
   ]
  },
  {
   "cell_type": "code",
   "execution_count": 9,
   "id": "e33c84b7-abd9-4d92-9b8c-59dd493764ad",
   "metadata": {},
   "outputs": [
    {
     "name": "stdout",
     "output_type": "stream",
     "text": [
      "Lista original: [1, 2, 2, 3, 4, 4, 5, 1, 3]\n",
      "Lista sin duplicados: [1, 2, 3, 4, 5]\n"
     ]
    }
   ],
   "source": [
    "#4to Ejercicio:\n",
    "\n",
    "# Lista original con elementos duplicados\n",
    "lista_original = [1, 2, 2, 3, 4, 4, 5, 1, 3]\n",
    "\n",
    "# Creamos una nueva lista sin duplicados, conservando el orden\n",
    "lista_sin_duplicados = []\n",
    "for elemento in lista_original:\n",
    "    if elemento not in lista_sin_duplicados:\n",
    "        lista_sin_duplicados.append(elemento)\n",
    "\n",
    "# Mostramos la nueva lista\n",
    "print(\"Lista original:\", lista_original)\n",
    "print(\"Lista sin duplicados:\", lista_sin_duplicados)\n"
   ]
  },
  {
   "cell_type": "code",
   "execution_count": 10,
   "id": "bfcf2bba-3499-4ee7-b5d5-9029f0726d7a",
   "metadata": {},
   "outputs": [
    {
     "name": "stdout",
     "output_type": "stream",
     "text": [
      "Lista original: ['manzana', 'pera', 'uva', 'manzana', 'plátano']\n",
      "Lista resultante: ['kiwi', 'pera', 'uva', 'kiwi', 'plátano']\n"
     ]
    }
   ],
   "source": [
    "#5to Ejercicio:\n",
    "\n",
    "# Lista original de strings\n",
    "L = [\"manzana\", \"pera\", \"uva\", \"manzana\", \"plátano\"]\n",
    "\n",
    "# String a reemplazar y su reemplazo\n",
    "s = \"manzana\"\n",
    "t = \"kiwi\"\n",
    "\n",
    "# Reemplazamos todas las ocurrencias de s por t\n",
    "L_resultado = [t if elemento == s else elemento for elemento in L]\n",
    "\n",
    "# Mostramos la lista resultante\n",
    "print(\"Lista original:\", L)\n",
    "print(\"Lista resultante:\", L_resultado)"
   ]
  },
  {
   "cell_type": "code",
   "execution_count": 11,
   "id": "3e0e8959-f7f8-4f62-b7ad-feb375ce7dc0",
   "metadata": {},
   "outputs": [
    {
     "name": "stdout",
     "output_type": "stream",
     "text": [
      "Tupla original: (10, 20, 30, 40)\n",
      "Tupla modificada: (10, 20, 30, 99)\n"
     ]
    }
   ],
   "source": [
    "#6to Ejercicio:\n",
    "\n",
    "# Tupla original con elementos numéricos\n",
    "tupla_original = (10, 20, 30, 40)\n",
    "\n",
    "# Convertimos la tupla a lista para poder modificarla\n",
    "lista_temporal = list(tupla_original)\n",
    "\n",
    "# Reemplazamos el último elemento\n",
    "lista_temporal[-1] = 99  # Nuevo valor\n",
    "\n",
    "# Convertimos de nuevo a tupla\n",
    "tupla_modificada = tuple(lista_temporal)\n",
    "\n",
    "# Mostramos la nueva tupla\n",
    "print(\"Tupla original:\", tupla_original)\n",
    "print(\"Tupla modificada:\", tupla_modificada)"
   ]
  },
  {
   "cell_type": "code",
   "execution_count": 13,
   "id": "73387184-a814-4a80-8ccf-db89ce1811cc",
   "metadata": {},
   "outputs": [
    {
     "name": "stdout",
     "output_type": "stream",
     "text": [
      "Lista resultante: [8, 6, 4, 2]\n"
     ]
    }
   ],
   "source": [
    "#7mo Ejercicio:\n",
    "\n",
    "# Lista original\n",
    "lista_original = [1, 2, 3, 4, 5, 6, 7, 8]\n",
    "\n",
    "# Filtramos los elementos pares y los invertimos\n",
    "lista_filtrada = [x for x in lista_original if x % 2 == 0][::-1]\n",
    "\n",
    "# Mostramos la lista resultante\n",
    "print(\"Lista resultante:\", lista_filtrada)"
   ]
  },
  {
   "cell_type": "code",
   "execution_count": 14,
   "id": "2008d6e9-1e8d-4122-a382-f75705195a23",
   "metadata": {},
   "outputs": [
    {
     "name": "stdout",
     "output_type": "stream",
     "text": [
      "Tupla original: (10, 20, 30, 40, 50)\n",
      "Tupla modificada: (10, 20, 40, 50)\n"
     ]
    }
   ],
   "source": [
    "#8vo Ejercicio:\n",
    "\n",
    "# Tupla original\n",
    "tupla_original = (10, 20, 30, 40, 50)\n",
    "\n",
    "# Índice a eliminar\n",
    "i = 2  # Eliminar el elemento en la posición 2 (es decir, el valor 30)\n",
    "\n",
    "# Creamos una nueva tupla excluyendo el elemento en la posición i\n",
    "tupla_modificada = tupla_original[:i] + tupla_original[i+1:]\n",
    "\n",
    "# Mostramos la tupla resultante\n",
    "print(\"Tupla original:\", tupla_original)\n",
    "print(\"Tupla modificada:\", tupla_modificada)"
   ]
  },
  {
   "cell_type": "code",
   "execution_count": 15,
   "id": "a44d8a46-0761-4fd5-aa2a-7075469b23d8",
   "metadata": {},
   "outputs": [
    {
     "name": "stdout",
     "output_type": "stream",
     "text": [
      "Lista original: [7, 3, 5, 9, 1, 8]\n",
      "Lista ordenada: [1, 3, 5, 7, 8, 9]\n",
      "Mediana: 7\n"
     ]
    }
   ],
   "source": [
    "#9no Ejercicio:\n",
    "# Lista de números\n",
    "L = [7, 3, 5, 9, 1, 8]\n",
    "\n",
    "# Ordenamos la lista\n",
    "L_ordenada = sorted(L)\n",
    "\n",
    "# Obtenemos la cantidad de elementos\n",
    "n = len(L_ordenada)\n",
    "\n",
    "# Calculamos la mediana según el enunciado\n",
    "# Si es impar: el del medio\n",
    "# Si es par: el de la mitad superior (índice n // 2)\n",
    "mediana = L_ordenada[n // 2]\n",
    "\n",
    "# Mostramos la mediana\n",
    "print(\"Lista original:\", L)\n",
    "print(\"Lista ordenada:\", L_ordenada)\n",
    "print(\"Mediana:\", mediana)"
   ]
  },
  {
   "cell_type": "code",
   "execution_count": null,
   "id": "ce03ba15-14ab-4856-a7ae-319d088b79dd",
   "metadata": {},
   "outputs": [],
   "source": []
  }
 ],
 "metadata": {
  "kernelspec": {
   "display_name": "Python [conda env:base] *",
   "language": "python",
   "name": "conda-base-py"
  },
  "language_info": {
   "codemirror_mode": {
    "name": "ipython",
    "version": 3
   },
   "file_extension": ".py",
   "mimetype": "text/x-python",
   "name": "python",
   "nbconvert_exporter": "python",
   "pygments_lexer": "ipython3",
   "version": "3.13.5"
  }
 },
 "nbformat": 4,
 "nbformat_minor": 5
}
