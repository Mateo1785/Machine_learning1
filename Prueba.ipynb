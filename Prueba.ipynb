{
 "cells": [
  {
   "cell_type": "markdown",
   "id": "29e84106-e69e-4a4f-b484-fe2dc51adc44",
   "metadata": {},
   "source": [
    "# Prueba"
   ]
  },
  {
   "cell_type": "code",
   "execution_count": 16,
   "id": "13cac6cd-6589-4a25-a79e-0b7d1bb8df34",
   "metadata": {},
   "outputs": [
    {
     "name": "stdin",
     "output_type": "stream",
     "text": [
      "ingresa un numero a\n"
     ]
    },
    {
     "name": "stdout",
     "output_type": "stream",
     "text": [
      "El valor 'a' no es numerico\n"
     ]
    }
   ],
   "source": [
    "#Ejercicio 8\n",
    "try:\n",
    "    x=input(\"ingresa un numero\")\n",
    "    numero=float(x)\n",
    "    print(f\"El resultado de 10/{x} es: {10/numero}\")\n",
    "except ValueError:\n",
    "    print(f\"El valor '{x}' no es numerico\")\n",
    "except ZeroDivisionError:\n",
    "    print(\"Error: division por cero \")"
   ]
  },
  {
   "cell_type": "code",
   "execution_count": null,
   "id": "2026fa2a-298b-4bad-999a-18d86ad04975",
   "metadata": {},
   "outputs": [],
   "source": []
  }
 ],
 "metadata": {
  "kernelspec": {
   "display_name": "Python [conda env:base] *",
   "language": "python",
   "name": "conda-base-py"
  },
  "language_info": {
   "codemirror_mode": {
    "name": "ipython",
    "version": 3
   },
   "file_extension": ".py",
   "mimetype": "text/x-python",
   "name": "python",
   "nbconvert_exporter": "python",
   "pygments_lexer": "ipython3",
   "version": "3.13.5"
  }
 },
 "nbformat": 4,
 "nbformat_minor": 5
}
