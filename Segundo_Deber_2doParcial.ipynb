{
 "cells": [
  {
   "cell_type": "markdown",
   "id": "c6b847d5-93db-437c-9736-4d3b9d95df12",
   "metadata": {},
   "source": [
    "<img src=\"data:image/png;base64,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\" width=\"50\">\n",
    "\n",
    "## Segundo Deber 2do Parcial\n",
    "\n",
    "<img src=\"data:image/webp;base64,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\"><br>\n",
    "\n",
    "**Nombre:** Josue Salazar<br>\n",
    "*Fecha:* 30/06/2025<br>\n",
    "\n",
    "<a href=\"https://github.com/Mateo1785/Machine_learning1\">Enlace a GitHub</a>"
   ]
  },
  {
   "cell_type": "markdown",
   "id": "697eedc0-d57a-41e6-93a0-19f22a62cbef",
   "metadata": {},
   "source": [
    "1. Escribe una función que reciba una ruta de un fichero de texto y una cadena de caracteres a buscar y determine si la cadena aparece en el fichero.\n",
    "\n",
    "2. Escribe una función que reciba una lista, una ruta destino y un número *n*. La función debe crear un fichero en la ruta especificada. El contenido del fichero serán los primeros *n* elementos de la lista. La función debe controlar de manera apropiada los posibles valores de *n* que estén fuera de rango.\n",
    "\n",
    "3. Escribe una función que reciba una ruta de un fichero de texto devuelva un diccionario con la frecuencia de aparición de cada palabra. Ejemplo: un fichero que contenga la frase 'es mejor que venga que que no venga' devolverá el siguiente diccionario: {'es' : 1, 'mejor' : 1, 'que' : 3, 'venga' : 2, 'no' : 1}. Para dividir un string en palabras puedes hacer uso del método *split*."
   ]
  },
  {
   "cell_type": "code",
   "execution_count": 55,
   "id": "2303fe1a-90d9-4c6d-bd0e-740fc37cb819",
   "metadata": {},
   "outputs": [
    {
     "name": "stdout",
     "output_type": "stream",
     "text": [
      "True\n"
     ]
    }
   ],
   "source": [
    "\n",
    "# 1er Ejercicio: Buscar cadena en un archivo\n",
    "\n",
    "#importamos os\n",
    "import os\n",
    "\n",
    "#verificamos si la carpeta res exite\n",
    "if not os.path.exists('res'):\n",
    "    os.mkdir('res')\n",
    "\n",
    "#creamos el archivo y tambien escribimos el texto que se probara\n",
    "with open('res/archivo.txt', 'w', encoding='utf-8') as f:\n",
    "    f.write('es mejor que venga que que no venga')\n",
    "\n",
    "#definimos la función para buscar una cadena en el archivo\n",
    "def buscar_cadena(ruta, cadena):\n",
    "    try:\n",
    "        with open(ruta, 'r', encoding='utf-8') as archivo:\n",
    "            texto = archivo.read()                #Se lee todo el contenido del archivo\n",
    "            return cadena in texto          \n",
    "    except:\n",
    "        print(\"No se pudo abrir el archivo\")\n",
    "        return False\n",
    "\n",
    "# Paso 4: Probar la función\n",
    "resultado = buscar_cadena('res/archivo.txt', 'venga')\n",
    "print(resultado)\n"
   ]
  },
  {
   "cell_type": "code",
   "execution_count": 47,
   "id": "57c2ccd6-77ef-416d-a3d4-416ffe43b54b",
   "metadata": {},
   "outputs": [
    {
     "name": "stdout",
     "output_type": "stream",
     "text": [
      "Archivo 'res/resultado.txt' creado correctamente\n"
     ]
    }
   ],
   "source": [
    "\n",
    "# 2do Ejercicio: Guardar n elementos de una lista en un archivo (res/resultado.txt)\n",
    "\n",
    "def guardar_elementos(lista, ruta, n):\n",
    "    if n > len(lista):\n",
    "        n = len(lista)\n",
    "    if n < 0:\n",
    "        print(\"n no puede ser negativo\")\n",
    "        return\n",
    "\n",
    "    try:\n",
    "        with open(ruta, 'w', encoding='utf-8') as archivo:\n",
    "            for i in range(n):\n",
    "                archivo.write(str(lista[i]) + '\\n')\n",
    "        print(f\"Archivo '{ruta}' creado correctamente\")\n",
    "    except:\n",
    "        print(\"Error al crear el archivo\")\n",
    "\n",
    "\n",
    "lista = ['uno', 'dos', 'tres', 'cuatro']\n",
    "\n",
    "guardar_elementos(lista, 'res/resultado.txt', 3)\n"
   ]
  },
  {
   "cell_type": "code",
   "execution_count": 50,
   "id": "a719e050-28af-48fb-91ef-a76bd3099736",
   "metadata": {},
   "outputs": [
    {
     "name": "stdout",
     "output_type": "stream",
     "text": [
      "{'es': 1, 'mejor': 1, 'que': 3, 'venga': 2, 'no': 1}\n"
     ]
    }
   ],
   "source": [
    "def contar_palabras(ruta):\n",
    "    try:\n",
    "        with open(ruta, 'r', encoding='utf-8') as archivo:\n",
    "            texto = archivo.read()\n",
    "            palabras = texto.lower().split()\n",
    "            resultado = {}\n",
    "            for palabra in palabras:\n",
    "                if palabra in resultado:\n",
    "                    resultado[palabra] += 1\n",
    "                else:\n",
    "                    resultado[palabra] = 1\n",
    "            return resultado\n",
    "    except:\n",
    "        print(\"No se pudo leer el archivo\")\n",
    "        return {}\n",
    "\n",
    "frecuencias = contar_palabras('res/archivo.txt')\n",
    "print(frecuencias)\n"
   ]
  },
  {
   "cell_type": "code",
   "execution_count": null,
   "id": "2fbeabd2-8dea-4ff9-b874-636104f56bbc",
   "metadata": {},
   "outputs": [],
   "source": []
  }
 ],
 "metadata": {
  "kernelspec": {
   "display_name": "Python 3 (ipykernel)",
   "language": "python",
   "name": "python3"
  },
  "language_info": {
   "codemirror_mode": {
    "name": "ipython",
    "version": 3
   },
   "file_extension": ".py",
   "mimetype": "text/x-python",
   "name": "python",
   "nbconvert_exporter": "python",
   "pygments_lexer": "ipython3",
   "version": "3.13.5"
  }
 },
 "nbformat": 4,
 "nbformat_minor": 5
}
