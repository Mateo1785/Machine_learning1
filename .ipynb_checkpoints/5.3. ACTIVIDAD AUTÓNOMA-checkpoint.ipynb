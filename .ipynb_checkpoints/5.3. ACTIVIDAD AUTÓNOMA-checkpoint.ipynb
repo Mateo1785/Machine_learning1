{
 "cells": [
  {
   "cell_type": "markdown",
   "id": "2ef39cb0-ad80-4cc8-99fc-ce74f65d71ea",
   "metadata": {},
   "source": [
    "<img src=\"img/Recurso-26.png\" width=\"200\">\n",
    "\n",
    "## 4.3. ACTIVIDAD AUTÓNOMA Y EXPERIMENTAL\n",
    "\n",
    "![logo](img/python_logo.png)\n",
    "\n",
    "**Nombre:** Josue Salazar<br>\n",
    "*Fecha:* 30/06/2025<br>\n",
    "\n",
    "<a href=\"https://github.com/Mateo1785/Machine-Learning1\">Enlace a GitHub</a>"
   ]
  },
  {
   "cell_type": "markdown",
   "id": "f9b80776-5e4e-4973-a397-14c38ca02234",
   "metadata": {},
   "source": [
    "# Ejercicios"
   ]
  },
  {
   "cell_type": "markdown",
   "id": "a2dfebb7-931f-4815-8ede-019378398b5b",
   "metadata": {},
   "source": [
    "1. Escribe un programa que calcule la suma de todos los elementos de una lista dada. La lista sólo puede contener elementos numéricos.\n",
    "\n",
    "2. Dada una lista con elementos duplicados, escribir un programa que muestre una nueva lista con el mismo contenido que la primera pero sin elementos duplicados. Para este ejercicio, no puedes hacer uso de objetos de tipo 'Set'.\n",
    "\n",
    "3. Escribe un programa que construya un diccionario que contenga un número (entre 1 y n) de elementos de esta forma: (x, x*x). Ejemplo: para n = 5, el diccionario resultante sería {1: 1, 2: 4, 3: 9, 4: 16, 5: 25}\n",
    "\n",
    "4. Escribe un programa que, dada una lista de palabras, compruebe si alguna empieza por 'a' y tiene más de 9 caracteres. Si dicha palabra existe, el programa deberá terminar en el momento exacto de encontrarla. El programa también debe mostrar un mensaje apropiado por pantalla que indique el éxito o el fracaso de la búsqueda. En caso de éxito, también se mostrará por pantalla la palabra encontrada.\n",
    "\n",
    "5. Dada una lista L de números positivos, escribir un programa que muestre otra lista (ordenada) que contenga todo índice i que cumpla la siguiente condición: L[i] es múltiplo de 3. Por ejemplo, dada la lista L = [3,5,13,12,1,9] el programa mostrará la lista [0,3,5] dado que L[0], L[3] y L[5] son, respectivamente, 3, 12 y 9, que son los únicos múltiplos de 3 que hay en L.\n",
    "\n",
    "6. Dado un diccionario cuyos elementos son pares de tipo string y numérico (es decir, las claves son de tipo 'str' y los valores son de tipo 'int' o 'float'), escribe un programa que muestre por pantalla la clave cuyo valor asociado representa el valor númerico más alto de todo el diccionario. Por ejemplo, para el diccionario {'a': 4.3, 'b': 1, 'c': 7.8, 'd': -5} la respuesta sería 'c', dado que 7.8 es el valor más alto de los números 4.3, 1, 7.8 y -5.\n",
    "\n",
    "7. Dada la lista a = [2, 4, 6, 8] y la lista b = [7, 11, 15, 22], escribe un programa que itere las listas a y b y multiplique cada elemento de a que sea mayor que 5 por cada elemento de b que sea menor que 14. El programa debe mostrar los resultados por pantalla.\n",
    "\n",
    "8.Escribir un programa que pida un valor numérico X al usuario. Para ello podéis hacer uso de la función predefinida 'input'. El programa deberá mostrar por pantalla el resultado de la división 10/X. En caso de que el usuario introduzca valores no apropiados, el programa deberá gestionar correctamente las excepciones, por ejemplo, mostrando mensajes informativos por pantalla.\n",
    "\n",
    "9. Escribir un programa que cree un diccionario cualquiera. Posteriormente, el programa pedirá al usuario (a través de la función predefinida 'input') que introduzca una clave del diccionario. Si la clave introducida es correcta (es decir, existe en el diccionario), el programa mostrará por pantalla el valor asociado a dicha clave. En caso de que la clave no exista, el programa gestionará de manera apropiada el error, por ejemplo, mostrando un mensaje informativo al usuario.\n",
    "\n",
    "10. Escribe una list comprehension que construya una lista con los números enteros positivos de una lista de números dada. La lista original puede incluir números de tipo float, los cuales deben ser descartados.\n",
    "\n",
    "11. Escribe una set comprehension que, dada una palabra, construya un conjunto que contenga las vocales de dicha palabra.\n",
    "\n",
    "12. Escribe una list comprehension que construya una lista con todos los números del 0 al 50 que contengan el dígito 3. El resultado será: [3, 13, 23, 30, 31, 32, 33, 34, 35, 36, 37, 38, 39, 43].\n",
    "\n",
    "13. Escribe una dictionary comprehension que construya un diccionario que incluya los tamaños de cada palabra en una frase dada. Ejemplo: el resultado para la frase \"Soy un ser humano\" será {'Soy': 3, 'un': 2, 'ser': 3, 'humano': 6}\n",
    "\n",
    "14. Escribe una list comprehension que construya una lista que incluya todos los números del 1 al 10 en orden. La primera mitad se mostrarán en formato numérico; la segunda mitad en texto. Es decir, el resultado será: [1, 2, 3, 4, 5, 'seis', 'siete', 'ocho', 'nueve', 'diez']."
   ]
  },
  {
   "cell_type": "code",
   "execution_count": 3,
   "id": "79b1f9a5-a4ca-446a-a7e1-a096154a3450",
   "metadata": {},
   "outputs": [
    {
     "name": "stdout",
     "output_type": "stream",
     "text": [
      "La suma de todos los elementos es: 15\n"
     ]
    }
   ],
   "source": [
    "#1er Ejercicio:\n",
    "\n",
    "# Lista con solo elementos numéricos\n",
    "numeros = [1, 2, 3, 4, 5]\n",
    "\n",
    "# Se calcula la suma de todos los elementos\n",
    "suma_total = sum(numeros)\n",
    "\n",
    "# Se imprime el resultado\n",
    "print(\"La suma de todos los elementos es:\", suma_total)\n"
   ]
  },
  {
   "cell_type": "code",
   "execution_count": 4,
   "id": "f8c80ed9-04aa-4a62-9f15-1e46b39dfe21",
   "metadata": {},
   "outputs": [
    {
     "name": "stdout",
     "output_type": "stream",
     "text": [
      "Lista sin duplicados: [1, 2, 3, 4, 5]\n"
     ]
    }
   ],
   "source": [
    "#2do Ejercicio:\n",
    "\n",
    "# Lista original con duplicados\n",
    "lista_original = [1, 2, 2, 3, 4, 4, 5]\n",
    "\n",
    "# Nueva lista sin duplicados\n",
    "lista_sin_duplicados = []\n",
    "for elemento in lista_original:\n",
    "    if elemento not in lista_sin_duplicados:\n",
    "        lista_sin_duplicados.append(elemento)\n",
    "\n",
    "print(\"Lista sin duplicados:\", lista_sin_duplicados)\n"
   ]
  },
  {
   "cell_type": "code",
   "execution_count": 16,
   "id": "791ca380-ad8f-49cc-b3c5-0479a054e5b7",
   "metadata": {},
   "outputs": [
    {
     "name": "stdout",
     "output_type": "stream",
     "text": [
      "Diccionario generado: {1: 1, 2: 4, 3: 9, 4: 16, 5: 25}\n"
     ]
    }
   ],
   "source": [
    "#3er Ejercicio:\n",
    "\n",
    "# Valor de n\n",
    "n = 5\n",
    "\n",
    "# Se construye el diccionario con comprensión\n",
    "diccionario = {x: x**2 for x in range(1, n+1)}\n",
    "\n",
    "print(\"Diccionario generado:\", diccionario)\n"
   ]
  },
  {
   "cell_type": "code",
   "execution_count": 18,
   "id": "b18fdb83-0dcb-4ce9-81db-b6fcd50dea7b",
   "metadata": {},
   "outputs": [
    {
     "name": "stdout",
     "output_type": "stream",
     "text": [
      "¡Éxito! Palabra encontrada: abecedario\n"
     ]
    }
   ],
   "source": [
    "#4to Ejercicio:\n",
    "\n",
    "palabras = ['anaconda', 'abecedario', 'amplitud', 'alfabetizacion', 'caracteres']\n",
    "\n",
    "for palabra in palabras:\n",
    "    if palabra.startswith('a') and len(palabra) > 9:\n",
    "        print(\"¡Éxito! Palabra encontrada:\", palabra)\n",
    "        break\n",
    "else:\n",
    "    print(\"Fracaso. No se encontró ninguna palabra que cumpla la condición.\")\n"
   ]
  },
  {
   "cell_type": "code",
   "execution_count": 20,
   "id": "15d4f1f3-2016-44e5-ac46-c9bb1d8b2a99",
   "metadata": {},
   "outputs": [
    {
     "name": "stdout",
     "output_type": "stream",
     "text": [
      "Índices con múltiplos de 3: [0, 3, 5]\n"
     ]
    }
   ],
   "source": [
    "#5to Ejercicio:\n",
    "\n",
    "L = [3, 5, 13, 12, 1, 9]\n",
    "\n",
    "# Se busca el índice donde el valor sea múltiplo de 3\n",
    "indices = [i for i in range(len(L)) if L[i] % 3 == 0]\n",
    "\n",
    "print(\"Índices con múltiplos de 3:\", indices)\n"
   ]
  },
  {
   "cell_type": "code",
   "execution_count": 21,
   "id": "48722fcd-8b62-40b6-b48f-1779db1e1233",
   "metadata": {},
   "outputs": [
    {
     "name": "stdout",
     "output_type": "stream",
     "text": [
      "Clave con valor más alto: c\n"
     ]
    }
   ],
   "source": [
    "#6to Ejercicio:\n",
    "\n",
    "diccionario = {'a': 4.3, 'b': 1, 'c': 7.8, 'd': -5}\n",
    "\n",
    "# Se obtiene la clave con el valor máximo\n",
    "clave_max = max(diccionario, key=diccionario.get)\n",
    "\n",
    "print(\"Clave con valor más alto:\", clave_max)\n"
   ]
  },
  {
   "cell_type": "code",
   "execution_count": 22,
   "id": "0b63f1d2-42c0-4d02-b829-03c193f386cd",
   "metadata": {},
   "outputs": [
    {
     "name": "stdout",
     "output_type": "stream",
     "text": [
      "6 x 7 = 42\n",
      "6 x 11 = 66\n",
      "8 x 7 = 56\n",
      "8 x 11 = 88\n"
     ]
    }
   ],
   "source": [
    "#7mo Ejercicio:\n",
    "\n",
    "a = [2, 4, 6, 8]\n",
    "b = [7, 11, 15, 22]\n",
    "\n",
    "for x in a:\n",
    "    if x > 5:\n",
    "        for y in b:\n",
    "            if y < 14:\n",
    "                print(f\"{x} x {y} = {x * y}\")\n"
   ]
  },
  {
   "cell_type": "code",
   "execution_count": 23,
   "id": "e91838c8-fe59-4e22-9e9b-593f20dccad8",
   "metadata": {},
   "outputs": [
    {
     "name": "stdin",
     "output_type": "stream",
     "text": [
      "Introduce un valor numérico para X:  12\n"
     ]
    },
    {
     "name": "stdout",
     "output_type": "stream",
     "text": [
      "Resultado de 10/X es: 0.8333333333333334\n"
     ]
    }
   ],
   "source": [
    "#8vo Ejercicio:\n",
    "\n",
    "try:\n",
    "    x = float(input(\"Introduce un valor numérico para X: \"))\n",
    "    resultado = 10 / x\n",
    "    print(\"Resultado de 10/X es:\", resultado)\n",
    "except ZeroDivisionError:\n",
    "    print(\"Error: No se puede dividir entre cero.\")\n",
    "except ValueError:\n",
    "    print(\"Error: Entrada no válida. Por favor, introduce un número.\")\n"
   ]
  },
  {
   "cell_type": "code",
   "execution_count": 41,
   "id": "a8d71cdb-8ee2-4ef7-892f-e2934c01995d",
   "metadata": {},
   "outputs": [
    {
     "name": "stdin",
     "output_type": "stream",
     "text": [
      "Introduce una clave para buscar:  edad\n"
     ]
    },
    {
     "name": "stdout",
     "output_type": "stream",
     "text": [
      "El valor asociado a 'edad' es: 30\n"
     ]
    }
   ],
   "source": [
    "#9no Ejercicio:\n",
    "\n",
    "diccionario = {'nombre': 'Ana', 'edad': 30, 'ciudad': 'Quito'}\n",
    "\n",
    "clave = input(\"Introduce una clave para buscar: \")\n",
    "\n",
    "# Verifica si la clave existe y maneja el error si no existe\n",
    "if clave in diccionario:\n",
    "    print(f\"El valor asociado a '{clave}' es:\", diccionario[clave])\n",
    "else:\n",
    "    print(\"Error: La clave no existe en el diccionario.\")\n"
   ]
  },
  {
   "cell_type": "code",
   "execution_count": 33,
   "id": "42d139c5-fb3f-4491-8a59-af7ff525ace5",
   "metadata": {},
   "outputs": [
    {
     "name": "stdout",
     "output_type": "stream",
     "text": [
      "Enteros positivos: [1, 4, 7]\n"
     ]
    }
   ],
   "source": [
    "#10mo Ejercicio:\n",
    "\n",
    "numeros = [1, 2.5, -3, 4, 5.0, 6.7, 7]\n",
    "\n",
    "# Se filtran solo los enteros positivos\n",
    "enteros_positivos = [x for x in numeros if isinstance(x, int) and x > 0]\n",
    "\n",
    "print(\"Enteros positivos:\", enteros_positivos)\n"
   ]
  },
  {
   "cell_type": "code",
   "execution_count": 35,
   "id": "c5a6f657-b56d-41b2-a980-b79aecaea5dd",
   "metadata": {},
   "outputs": [
    {
     "name": "stdout",
     "output_type": "stream",
     "text": [
      "Vocales en la palabra: {'i', 'a', 'e'}\n"
     ]
    }
   ],
   "source": [
    "#11vo Ejercicio:\n",
    "\n",
    "palabra = \"inteligencia\"\n",
    "\n",
    "# Se crea el conjunto con las vocales encontradas\n",
    "vocales = {letra for letra in palabra if letra in 'aeiou'}\n",
    "\n",
    "print(\"Vocales en la palabra:\", vocales)\n"
   ]
  },
  {
   "cell_type": "code",
   "execution_count": 37,
   "id": "eec6cfe5-5b69-4317-bfb9-38039887af57",
   "metadata": {},
   "outputs": [
    {
     "name": "stdout",
     "output_type": "stream",
     "text": [
      "Números del 0 al 50 con el dígito 3: [3, 13, 23, 30, 31, 32, 33, 34, 35, 36, 37, 38, 39, 43]\n"
     ]
    }
   ],
   "source": [
    "#12vo Ejercicio:\n",
    "\n",
    "numeros_con_3 = [x for x in range(51) if '3' in str(x)]\n",
    "\n",
    "print(\"Números del 0 al 50 con el dígito 3:\", numeros_con_3)\n"
   ]
  },
  {
   "cell_type": "code",
   "execution_count": 38,
   "id": "fead015b-021d-4d85-8b1f-ece200a5cca7",
   "metadata": {},
   "outputs": [
    {
     "name": "stdout",
     "output_type": "stream",
     "text": [
      "Diccionario de longitudes: {'Soy': 3, 'un': 2, 'ser': 3, 'humano': 6}\n"
     ]
    }
   ],
   "source": [
    "#13vo Ejercicio:\n",
    "\n",
    "frase = \"Soy un ser humano\"\n",
    "\n",
    "# Se genera el diccionario con las longitudes de cada palabra\n",
    "longitudes = {palabra: len(palabra) for palabra in frase.split()}\n",
    "\n",
    "print(\"Diccionario de longitudes:\", longitudes)\n"
   ]
  },
  {
   "cell_type": "code",
   "execution_count": 40,
   "id": "f5a12d03-4c1f-4faa-a314-b4b8fe24e75e",
   "metadata": {},
   "outputs": [
    {
     "name": "stdout",
     "output_type": "stream",
     "text": [
      "Lista combinada: [1, 2, 3, 4, 5, 'seis', 'siete', 'ocho', 'nueve', 'diez']\n"
     ]
    }
   ],
   "source": [
    "#14vo Ejercicio:\n",
    "\n",
    "nombres = ['uno', 'dos', 'tres', 'cuatro', 'cinco', 'seis', 'siete', 'ocho', 'nueve', 'diez']\n",
    "\n",
    "# Primeros 5 números como enteros, los demás como texto\n",
    "mi_lista = [i+1 if i < 5 else nombres[i] for i in range(10)]\n",
    "\n",
    "print(\"Lista combinada:\", mi_lista)\n"
   ]
  },
  {
   "cell_type": "code",
   "execution_count": null,
   "id": "25709b86-7c49-4541-9eb2-667949b6f340",
   "metadata": {},
   "outputs": [],
   "source": []
  }
 ],
 "metadata": {
  "kernelspec": {
   "display_name": "Python [conda env:base] *",
   "language": "python",
   "name": "conda-base-py"
  },
  "language_info": {
   "codemirror_mode": {
    "name": "ipython",
    "version": 3
   },
   "file_extension": ".py",
   "mimetype": "text/x-python",
   "name": "python",
   "nbconvert_exporter": "python",
   "pygments_lexer": "ipython3",
   "version": "3.13.5"
  }
 },
 "nbformat": 4,
 "nbformat_minor": 5
}
