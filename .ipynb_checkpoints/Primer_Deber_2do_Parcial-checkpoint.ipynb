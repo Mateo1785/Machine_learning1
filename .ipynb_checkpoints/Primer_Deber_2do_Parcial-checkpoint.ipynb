{
 "cells": [
  {
   "cell_type": "markdown",
   "id": "2808f6d7-9e6c-4b91-97cd-6868a13283f5",
   "metadata": {},
   "source": [
    "<img src=\"img/Recurso-26.png\" width=\"200\">\n",
    "\n",
    "## Primer Deber 2do Parcial\n",
    "\n",
    "<img src=\"data:image/webp;base64,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\"><br>\n",
    "\n",
    "**Nombre:** Josue Salazar<br>\n",
    "*Fecha:* 30/06/2025<br>\n",
    "\n",
    "<a href=\"https://github.com/Mateo1785/Machine_learning1\">Enlace a GitHub</a>"
   ]
  },
  {
   "cell_type": "markdown",
   "id": "19805e93-0946-4465-b8ce-040e62cefb06",
   "metadata": {},
   "source": [
    "## Ejercicios"
   ]
  },
  {
   "cell_type": "markdown",
   "id": "14219e3e-d2bb-4ce0-8790-4048051fe159",
   "metadata": {},
   "source": [
    "1. Escribe una función que reciba como entrada una *lista* con números y devuelva como resultado una *lista* con los cuadrados de los números contenidos en la lista de entrada.\n",
    "\n",
    "2. Escribe una función que reciba números como entrada y devuelva la suma de los mismos. La función debe ser capaz de recibir una cantidad indeterminada de números. La función no debe recibir directamente ningún objeto complejo (lista, conjunto, etc.).\n",
    "\n",
    "3. Escribe una función que reciba un string como entrada y devuelva el string al revés. Ejemplo: si el string de entrada es 'hola', el resultado será 'aloh'.\n",
    "\n",
    "4. Escribe una función *lambda* que, al igual que la función desarrollada en el ejercicio anterior, invierta el string recibido como parámetro. Ejemplo: si el string de entrada es 'hola', el resultado será 'aloh'.\n",
    "\n",
    "5. Escribe una función que compruebe si un número se encuentra dentro de un rango específico.\n",
    "\n",
    "6. Escribe una función que reciba un número entero positivo como parámetro y devuelva una lista que contenga los 5 primeros múltiplos de dicho número. Por ejemplo, si la función recibe el número 3, devolverá la lista [3, 6, 9, 12, 15]. Si la función recibe un parámetro incorrecto (por ejemplo, un múmero menor o igual a cero), mostrará un mensaje de error por pantalla y devolverá una lista vacía.\n",
    "\n",
    "7. Escribe una función que reciba una lista como parámetro y compruebe si la lista tiene duplicados. La función devolverá *True* si la lista tiene duplicados y *False* si no los tiene.\n",
    "\n",
    "8. Escribe una función *lambda* que, al igual que la función desarrollada en el ejercicio anterior, reciba una lista como parámetro y compruebe si la lista tiene duplicados. La función devolverá *True* si la lista tiene duplicados y *False* si no los tiene.\n",
    "\n",
    "9. Escribe una función que compruebe si un string dado es un palíndromo. Un palíndromo es una secuencia de caracteres que se lee igual de izquierda a derecha que de derecha a izquierda. Por ejemplo, la función devolverá *True* si recibe el string \"reconocer\" y *False* si recibe el string \"python\"."
   ]
  },
  {
   "cell_type": "code",
   "execution_count": 32,
   "id": "85b8f58a-7eda-4f21-902a-d2246253a4c0",
   "metadata": {},
   "outputs": [
    {
     "name": "stdout",
     "output_type": "stream",
     "text": [
      "[1, 4, 9]\n"
     ]
    }
   ],
   "source": [
    "#1er Ejercicio:\n",
    "\n",
    "def cuadrados(lista):\n",
    "    return [x**2 for x in lista]\n",
    "\n",
    "print(cuadrados([1, 2, 3]))  \n"
   ]
  },
  {
   "cell_type": "code",
   "execution_count": 33,
   "id": "73a900ff-f687-4fd2-ba3d-af2e63c8b0ae",
   "metadata": {},
   "outputs": [
    {
     "name": "stdout",
     "output_type": "stream",
     "text": [
      "10\n"
     ]
    }
   ],
   "source": [
    "#2do Ejercicio:\n",
    "\n",
    "def suma_total(*numeros):\n",
    "    return sum(numeros)\n",
    "\n",
    "print(suma_total(1, 2, 3, 4))\n"
   ]
  },
  {
   "cell_type": "code",
   "execution_count": 34,
   "id": "9c2bd149-59f2-48b4-a476-c85f8bcb220d",
   "metadata": {},
   "outputs": [
    {
     "name": "stdout",
     "output_type": "stream",
     "text": [
      "aloh\n"
     ]
    }
   ],
   "source": [
    "#3er Ejercicio:\n",
    "def invertir_string(texto):\n",
    "    return texto[::-1]\n",
    "print(invertir_string(\"hola\"))  \n"
   ]
  },
  {
   "cell_type": "code",
   "execution_count": 35,
   "id": "347ff519-8f3a-4591-9a32-766f1ed4dfaf",
   "metadata": {},
   "outputs": [
    {
     "name": "stdout",
     "output_type": "stream",
     "text": [
      "aloh\n"
     ]
    }
   ],
   "source": [
    "#4to Ejercicio:\n",
    "invertir_lambda = lambda texto: texto[::-1]\n",
    "print(invertir_lambda(\"hola\")) \n"
   ]
  },
  {
   "cell_type": "code",
   "execution_count": 36,
   "id": "05138c39-f613-4dac-b970-4d1b531d0352",
   "metadata": {},
   "outputs": [
    {
     "name": "stdout",
     "output_type": "stream",
     "text": [
      "True\n",
      "False\n"
     ]
    }
   ],
   "source": [
    "#5to Ejercicio:\n",
    "def esta_en_rango(numero, inicio, fin):\n",
    "    return inicio <= numero <= fin\n",
    "print(esta_en_rango(5, 1, 10))  \n",
    "print(esta_en_rango(11, 1, 10)) \n"
   ]
  },
  {
   "cell_type": "code",
   "execution_count": 37,
   "id": "4d0c249f-8e7b-4673-8a10-b3348ac93fa4",
   "metadata": {},
   "outputs": [
    {
     "name": "stdout",
     "output_type": "stream",
     "text": [
      "[3, 6, 9, 12, 15]\n"
     ]
    }
   ],
   "source": [
    "#6to Ejercicio:\n",
    "def primeros_multiplos(numero):\n",
    "    if numero > 0:\n",
    "        return [numero * i for i in range(1, 6)]\n",
    "    else:\n",
    "        print(\"Error: ingresa un número entero positivo.\")\n",
    "        return []\n",
    "print(primeros_multiplos(3)) \n",
    "\n"
   ]
  },
  {
   "cell_type": "code",
   "execution_count": 38,
   "id": "b1379e23-79ef-4714-95f1-deef48fdaba7",
   "metadata": {},
   "outputs": [
    {
     "name": "stdout",
     "output_type": "stream",
     "text": [
      "True\n",
      "False\n"
     ]
    }
   ],
   "source": [
    "#7mo Ejercicio:\n",
    "\n",
    "def tiene_duplicados(lista):\n",
    "    return len(lista) != len(set(lista))\n",
    "print(tiene_duplicados([1, 2, 3, 1])) \n",
    "print(tiene_duplicados([1, 2, 3]))    "
   ]
  },
  {
   "cell_type": "code",
   "execution_count": 39,
   "id": "1e6e7382-bc81-4f0e-8845-7063d59c7e97",
   "metadata": {},
   "outputs": [
    {
     "name": "stdout",
     "output_type": "stream",
     "text": [
      "True\n"
     ]
    }
   ],
   "source": [
    "#8vo Ejercicio:\n",
    "duplicados_lambda = lambda lista: len(lista) != len(set(lista))\n",
    "print(duplicados_lambda([1, 2, 3, 3]))  \n"
   ]
  },
  {
   "cell_type": "code",
   "execution_count": 40,
   "id": "3bb6dde6-4546-4709-af25-9a49a5675197",
   "metadata": {},
   "outputs": [
    {
     "name": "stdout",
     "output_type": "stream",
     "text": [
      "True\n",
      "False\n"
     ]
    }
   ],
   "source": [
    "#9no Ejercicio:\n",
    "def es_palindromo(texto):\n",
    "    return texto == texto[::-1]\n",
    "\n",
    "print(es_palindromo(\"reconocer\"))  \n",
    "print(es_palindromo(\"python\"))     \n"
   ]
  }
 ],
 "metadata": {
  "kernelspec": {
   "display_name": "Python 3 (ipykernel)",
   "language": "python",
   "name": "python3"
  },
  "language_info": {
   "codemirror_mode": {
    "name": "ipython",
    "version": 3
   },
   "file_extension": ".py",
   "mimetype": "text/x-python",
   "name": "python",
   "nbconvert_exporter": "python",
   "pygments_lexer": "ipython3",
   "version": "3.13.5"
  }
 },
 "nbformat": 4,
 "nbformat_minor": 5
}
