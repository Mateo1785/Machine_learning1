{
 "cells": [
  {
   "cell_type": "markdown",
   "id": "2808f6d7-9e6c-4b91-97cd-6868a13283f5",
   "metadata": {},
   "source": [
    "<img src=\"img/Recurso-26.png\" width=\"200\">\n",
    "\n",
    "## Primer Deber 2do Parcial\n",
    "\n",
    "![logo](img/python_logo.png)\n",
    "\n",
    "**Nombre:** Josue Salazar<br>\n",
    "*Fecha:* 03/07/2025<br>\n",
    "\n",
    "<a href=\"https://github.com/Mateo1785/Machine-Learning1\">Enlace a GitHub</a>"
   ]
  },
  {
   "cell_type": "markdown",
   "id": "19805e93-0946-4465-b8ce-040e62cefb06",
   "metadata": {},
   "source": [
    "## Ejercicios"
   ]
  },
  {
   "cell_type": "markdown",
   "id": "14219e3e-d2bb-4ce0-8790-4048051fe159",
   "metadata": {},
   "source": [
    "1. Escribe una función que reciba como entrada una *lista* con números y devuelva como resultado una *lista* con los cuadrados de los números contenidos en la lista de entrada.\n",
    "\n",
    "2. Escribe una función que reciba números como entrada y devuelva la suma de los mismos. La función debe ser capaz de recibir una cantidad indeterminada de números. La función no debe recibir directamente ningún objeto complejo (lista, conjunto, etc.).\n",
    "\n",
    "3. Escribe una función que reciba un string como entrada y devuelva el string al revés. Ejemplo: si el string de entrada es 'hola', el resultado será 'aloh'.\n",
    "\n",
    "4. Escribe una función *lambda* que, al igual que la función desarrollada en el ejercicio anterior, invierta el string recibido como parámetro. Ejemplo: si el string de entrada es 'hola', el resultado será 'aloh'.\n",
    "\n",
    "5. Escribe una función que compruebe si un número se encuentra dentro de un rango específico.\n",
    "\n",
    "6. Escribe una función que reciba un número entero positivo como parámetro y devuelva una lista que contenga los 5 primeros múltiplos de dicho número. Por ejemplo, si la función recibe el número 3, devolverá la lista [3, 6, 9, 12, 15]. Si la función recibe un parámetro incorrecto (por ejemplo, un múmero menor o igual a cero), mostrará un mensaje de error por pantalla y devolverá una lista vacía.\n",
    "\n",
    "7. Escribe una función que reciba una lista como parámetro y compruebe si la lista tiene duplicados. La función devolverá *True* si la lista tiene duplicados y *False* si no los tiene.\n",
    "\n",
    "8. Escribe una función *lambda* que, al igual que la función desarrollada en el ejercicio anterior, reciba una lista como parámetro y compruebe si la lista tiene duplicados. La función devolverá *True* si la lista tiene duplicados y *False* si no los tiene.\n",
    "\n",
    "9. Escribe una función que compruebe si un string dado es un palíndromo. Un palíndromo es una secuencia de caracteres que se lee igual de izquierda a derecha que de derecha a izquierda. Por ejemplo, la función devolverá *True* si recibe el string \"reconocer\" y *False* si recibe el string \"python\"."
   ]
  },
  {
   "cell_type": "code",
   "execution_count": 32,
   "id": "85b8f58a-7eda-4f21-902a-d2246253a4c0",
   "metadata": {},
   "outputs": [
    {
     "name": "stdout",
     "output_type": "stream",
     "text": [
      "[1, 4, 9]\n"
     ]
    }
   ],
   "source": [
    "#1er Ejercicio:\n",
    "\n",
    "def cuadrados(lista):\n",
    "    return [x**2 for x in lista]\n",
    "\n",
    "print(cuadrados([1, 2, 3]))  \n"
   ]
  },
  {
   "cell_type": "code",
   "execution_count": 33,
   "id": "73a900ff-f687-4fd2-ba3d-af2e63c8b0ae",
   "metadata": {},
   "outputs": [
    {
     "name": "stdout",
     "output_type": "stream",
     "text": [
      "10\n"
     ]
    }
   ],
   "source": [
    "#2do Ejercicio:\n",
    "\n",
    "def suma_total(*numeros):\n",
    "    return sum(numeros)\n",
    "\n",
    "print(suma_total(1, 2, 3, 4))\n"
   ]
  },
  {
   "cell_type": "code",
   "execution_count": 34,
   "id": "9c2bd149-59f2-48b4-a476-c85f8bcb220d",
   "metadata": {},
   "outputs": [
    {
     "name": "stdout",
     "output_type": "stream",
     "text": [
      "aloh\n"
     ]
    }
   ],
   "source": [
    "#3er Ejercicio:\n",
    "def invertir_string(texto):\n",
    "    return texto[::-1]\n",
    "print(invertir_string(\"hola\"))  \n"
   ]
  },
  {
   "cell_type": "code",
   "execution_count": 35,
   "id": "347ff519-8f3a-4591-9a32-766f1ed4dfaf",
   "metadata": {},
   "outputs": [
    {
     "name": "stdout",
     "output_type": "stream",
     "text": [
      "aloh\n"
     ]
    }
   ],
   "source": [
    "#4to Ejercicio:\n",
    "invertir_lambda = lambda texto: texto[::-1]\n",
    "print(invertir_lambda(\"hola\")) \n"
   ]
  },
  {
   "cell_type": "code",
   "execution_count": 36,
   "id": "05138c39-f613-4dac-b970-4d1b531d0352",
   "metadata": {},
   "outputs": [
    {
     "name": "stdout",
     "output_type": "stream",
     "text": [
      "True\n",
      "False\n"
     ]
    }
   ],
   "source": [
    "#5to Ejercicio:\n",
    "def esta_en_rango(numero, inicio, fin):\n",
    "    return inicio <= numero <= fin\n",
    "print(esta_en_rango(5, 1, 10))  \n",
    "print(esta_en_rango(11, 1, 10)) \n"
   ]
  },
  {
   "cell_type": "code",
   "execution_count": 37,
   "id": "4d0c249f-8e7b-4673-8a10-b3348ac93fa4",
   "metadata": {},
   "outputs": [
    {
     "name": "stdout",
     "output_type": "stream",
     "text": [
      "[3, 6, 9, 12, 15]\n"
     ]
    }
   ],
   "source": [
    "#6to Ejercicio:\n",
    "def primeros_multiplos(numero):\n",
    "    if numero > 0:\n",
    "        return [numero * i for i in range(1, 6)]\n",
    "    else:\n",
    "        print(\"Error: ingresa un número entero positivo.\")\n",
    "        return []\n",
    "print(primeros_multiplos(3)) \n",
    "\n"
   ]
  },
  {
   "cell_type": "code",
   "execution_count": 38,
   "id": "b1379e23-79ef-4714-95f1-deef48fdaba7",
   "metadata": {},
   "outputs": [
    {
     "name": "stdout",
     "output_type": "stream",
     "text": [
      "True\n",
      "False\n"
     ]
    }
   ],
   "source": [
    "#7mo Ejercicio:\n",
    "\n",
    "def tiene_duplicados(lista):\n",
    "    return len(lista) != len(set(lista))\n",
    "print(tiene_duplicados([1, 2, 3, 1])) \n",
    "print(tiene_duplicados([1, 2, 3]))    "
   ]
  },
  {
   "cell_type": "code",
   "execution_count": 39,
   "id": "1e6e7382-bc81-4f0e-8845-7063d59c7e97",
   "metadata": {},
   "outputs": [
    {
     "name": "stdout",
     "output_type": "stream",
     "text": [
      "True\n"
     ]
    }
   ],
   "source": [
    "#8vo Ejercicio:\n",
    "duplicados_lambda = lambda lista: len(lista) != len(set(lista))\n",
    "print(duplicados_lambda([1, 2, 3, 3]))  \n"
   ]
  },
  {
   "cell_type": "code",
   "execution_count": 40,
   "id": "3bb6dde6-4546-4709-af25-9a49a5675197",
   "metadata": {},
   "outputs": [
    {
     "name": "stdout",
     "output_type": "stream",
     "text": [
      "True\n",
      "False\n"
     ]
    }
   ],
   "source": [
    "#9no Ejercicio:\n",
    "def es_palindromo(texto):\n",
    "    return texto == texto[::-1]\n",
    "\n",
    "print(es_palindromo(\"reconocer\"))  \n",
    "print(es_palindromo(\"python\"))     \n"
   ]
  }
 ],
 "metadata": {
  "kernelspec": {
   "display_name": "Python [conda env:base] *",
   "language": "python",
   "name": "conda-base-py"
  },
  "language_info": {
   "codemirror_mode": {
    "name": "ipython",
    "version": 3
   },
   "file_extension": ".py",
   "mimetype": "text/x-python",
   "name": "python",
   "nbconvert_exporter": "python",
   "pygments_lexer": "ipython3",
   "version": "3.13.5"
  }
 },
 "nbformat": 4,
 "nbformat_minor": 5
}
